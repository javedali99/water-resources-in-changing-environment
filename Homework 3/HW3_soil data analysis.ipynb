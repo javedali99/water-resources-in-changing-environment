{
 "cells": [
  {
   "cell_type": "markdown",
   "id": "76639d35-6b6b-45c8-b29c-dea7c3db7f57",
   "metadata": {},
   "source": [
    "# Plot the empirical cumulative distribution function (CDF) for maximum soil water storage capacity for Shale Hills CZO catchment\n",
    "\n",
    "**Author:** Javed Ali\n",
    "\n",
    "**Date:** Sept. 18, 2021\n",
    "\n",
    "> Assuming the soil porosity is 0.4 for each grid cell, plot the empirical cumulative distribution function (CDF) for maximum soil water storage capacity for this catchment. The cumulative probability (i.e., F) is shown in the x-axis, and maximum soil water storage capacity is shown in the y-axis. Please submit the figure but do not submit the data in Excel. "
   ]
  },
  {
   "cell_type": "markdown",
   "id": "b46e1a53-5e98-4b19-9e15-1bf628f39c84",
   "metadata": {},
   "source": [
    "## Import libraries"
   ]
  },
  {
   "cell_type": "code",
   "execution_count": 1,
   "id": "2ec2f985-817e-40ea-965f-2bd1ec289d6d",
   "metadata": {},
   "outputs": [],
   "source": [
    "import pandas as pd\n",
    "import numpy as np\n",
    "\n",
    "# visualization\n",
    "import seaborn as sns\n",
    "import matplotlib.pyplot as plt\n",
    "import plotly \n",
    "from plotly import graph_objects as go\n",
    "import plotly.express as px\n",
    "import plotly.io as pio\n",
    "%matplotlib inline\n",
    "plt.rcParams['figure.figsize'] = (15, 10)\n",
    "\n",
    "# system\n",
    "import os\n",
    "import glob\n",
    "\n",
    "# hide warnings\n",
    "import warnings\n",
    "warnings.filterwarnings('ignore')"
   ]
  },
  {
   "cell_type": "markdown",
   "id": "c3bded7a-dbd6-490d-b396-74b566b0af94",
   "metadata": {},
   "source": [
    "## Load and check the maximum soil water storage capacity data"
   ]
  },
  {
   "cell_type": "code",
   "execution_count": 8,
   "id": "c86f68f6-42e5-4e62-bdf9-9ae14bff9628",
   "metadata": {},
   "outputs": [],
   "source": [
    "# soil water storage caapcity data\n",
    "soil_capacity_df = pd.read_excel(\"storage_capacity_points.xlsx\")"
   ]
  },
  {
   "cell_type": "code",
   "execution_count": 9,
   "id": "890ceb8a-6598-4ba3-b3b8-99b9f237b7cb",
   "metadata": {},
   "outputs": [
    {
     "data": {
      "text/html": [
       "<div>\n",
       "<style scoped>\n",
       "    .dataframe tbody tr th:only-of-type {\n",
       "        vertical-align: middle;\n",
       "    }\n",
       "\n",
       "    .dataframe tbody tr th {\n",
       "        vertical-align: top;\n",
       "    }\n",
       "\n",
       "    .dataframe thead th {\n",
       "        text-align: right;\n",
       "    }\n",
       "</style>\n",
       "<table border=\"1\" class=\"dataframe\">\n",
       "  <thead>\n",
       "    <tr style=\"text-align: right;\">\n",
       "      <th></th>\n",
       "      <th>Rank</th>\n",
       "      <th>Soil capacity</th>\n",
       "      <th>CDF</th>\n",
       "    </tr>\n",
       "  </thead>\n",
       "  <tbody>\n",
       "    <tr>\n",
       "      <th>0</th>\n",
       "      <td>1</td>\n",
       "      <td>0.592883</td>\n",
       "      <td>0.000106</td>\n",
       "    </tr>\n",
       "    <tr>\n",
       "      <th>1</th>\n",
       "      <td>2</td>\n",
       "      <td>0.608667</td>\n",
       "      <td>0.000212</td>\n",
       "    </tr>\n",
       "    <tr>\n",
       "      <th>2</th>\n",
       "      <td>3</td>\n",
       "      <td>0.608874</td>\n",
       "      <td>0.000317</td>\n",
       "    </tr>\n",
       "    <tr>\n",
       "      <th>3</th>\n",
       "      <td>4</td>\n",
       "      <td>0.611536</td>\n",
       "      <td>0.000423</td>\n",
       "    </tr>\n",
       "    <tr>\n",
       "      <th>4</th>\n",
       "      <td>5</td>\n",
       "      <td>0.617017</td>\n",
       "      <td>0.000529</td>\n",
       "    </tr>\n",
       "    <tr>\n",
       "      <th>...</th>\n",
       "      <td>...</td>\n",
       "      <td>...</td>\n",
       "      <td>...</td>\n",
       "    </tr>\n",
       "    <tr>\n",
       "      <th>9447</th>\n",
       "      <td>9448</td>\n",
       "      <td>1.560900</td>\n",
       "      <td>0.999471</td>\n",
       "    </tr>\n",
       "    <tr>\n",
       "      <th>9448</th>\n",
       "      <td>9449</td>\n",
       "      <td>1.580690</td>\n",
       "      <td>0.999577</td>\n",
       "    </tr>\n",
       "    <tr>\n",
       "      <th>9449</th>\n",
       "      <td>9450</td>\n",
       "      <td>1.601030</td>\n",
       "      <td>0.999683</td>\n",
       "    </tr>\n",
       "    <tr>\n",
       "      <th>9450</th>\n",
       "      <td>9451</td>\n",
       "      <td>1.618920</td>\n",
       "      <td>0.999788</td>\n",
       "    </tr>\n",
       "    <tr>\n",
       "      <th>9451</th>\n",
       "      <td>9452</td>\n",
       "      <td>1.684970</td>\n",
       "      <td>0.999894</td>\n",
       "    </tr>\n",
       "  </tbody>\n",
       "</table>\n",
       "<p>9452 rows × 3 columns</p>\n",
       "</div>"
      ],
      "text/plain": [
       "      Rank  Soil capacity       CDF\n",
       "0        1       0.592883  0.000106\n",
       "1        2       0.608667  0.000212\n",
       "2        3       0.608874  0.000317\n",
       "3        4       0.611536  0.000423\n",
       "4        5       0.617017  0.000529\n",
       "...    ...            ...       ...\n",
       "9447  9448       1.560900  0.999471\n",
       "9448  9449       1.580690  0.999577\n",
       "9449  9450       1.601030  0.999683\n",
       "9450  9451       1.618920  0.999788\n",
       "9451  9452       1.684970  0.999894\n",
       "\n",
       "[9452 rows x 3 columns]"
      ]
     },
     "execution_count": 9,
     "metadata": {},
     "output_type": "execute_result"
    }
   ],
   "source": [
    "soil_capacity_df"
   ]
  },
  {
   "cell_type": "markdown",
   "id": "46e1c1b2-8013-44a9-ad38-f01e17cfba25",
   "metadata": {},
   "source": [
    "## Plot the empirical cumulative distribution function (CDF) for maximum soil water storage capacity"
   ]
  },
  {
   "cell_type": "code",
   "execution_count": 11,
   "id": "39e7351b-b117-4c50-9cb5-59204c170fe6",
   "metadata": {},
   "outputs": [
    {
     "data": {
      "image/png": "[encoded data removed]",
      "text/plain": [
       "<Figure size 1080x720 with 1 Axes>"
      ]
     },
     "metadata": {},
     "output_type": "display_data"
    }
   ],
   "source": [
    "plt.style.use(\"seaborn\")\n",
    "plt.figure(figsize=(15, 10))\n",
    "plt.plot(soil_capacity_df['CDF'], soil_capacity_df['Soil capacity'], \"o-\", color='b', markerfacecolor='r')\n",
    "plt.xlabel(\"Cumulative Probability (F)\", fontsize=14)\n",
    "plt.ylabel(\"Maximum Soil Water Storage Capacity\", fontsize=14)\n",
    "plt.title(\"CDF for Maximum Soil Water Storage Capacity in Shale Hills CZO Catchment\", \n",
    "          fontsize=18, y=1.03)\n",
    "plt.xticks(fontsize=13)\n",
    "plt.yticks(fontsize=13)\n",
    "plt.savefig(\"CDF Shale Hills CZO\", dpi=300)\n",
    "    \n",
    "plt.show()    "
   ]
  },
  {
   "cell_type": "code",
   "execution_count": null,
   "id": "05ea9ca2-56a8-4450-8532-8b97c77e2921",
   "metadata": {},
   "outputs": [],
   "source": []
  }
 ],
 "metadata": {
  "kernelspec": {
   "display_name": "Python 3 (ipykernel)",
   "language": "python",
   "name": "python3"
  },
  "language_info": {
   "codemirror_mode": {
    "name": "ipython",
    "version": 3
   },
   "file_extension": ".py",
   "mimetype": "text/x-python",
   "name": "python",
   "nbconvert_exporter": "python",
   "pygments_lexer": "ipython3",
   "version": "3.8.10"
  }
 },
 "nbformat": 4,
 "nbformat_minor": 5
}
